{
 "cells": [
  {
   "cell_type": "markdown",
   "metadata": {},
   "source": [
    "#### 선형함수 \n",
    "- 비용함수 : 한 모델이 여러가지 선형함수를 만들고 최적의 선형함수를 찾는 방법\n",
    " - 데이터를 가지고 여러가지 선형함수를 만듬\n",
    " - 어떤 선형함수가 모든 데이터를 잘 반영했는가? ( 최적의 함수를 찾을려고)\n",
    " - 만들어둔 선형함수를 비용함수에 집어 넣는다 (비용함수는 기준이 됨)\n",
    " - 각각의 선형함수가 비용함수를 출력\n",
    " - 비용함수가 가장 작았을때의 선형함수를 예측함수로 사용(평균제곱오차가 가장 작은 것 -> 0에 가깝도록)\n",
    " \n",
    " - 비용함수를 0에 가깝도록 만드는 방법 \n",
    "     - 가중치를 조절해가면서 "
   ]
  },
  {
   "cell_type": "markdown",
   "metadata": {},
   "source": [
    "# 성적 데이터 생성 "
   ]
  },
  {
   "cell_type": "code",
   "execution_count": 1,
   "metadata": {},
   "outputs": [],
   "source": [
    "import numpy as np\n",
    "import pandas as pd\n",
    "import matplotlib.pyplot as plt"
   ]
  },
  {
   "cell_type": "code",
   "execution_count": 30,
   "metadata": {},
   "outputs": [
    {
     "data": {
      "text/html": [
       "<div>\n",
       "<style scoped>\n",
       "    .dataframe tbody tr th:only-of-type {\n",
       "        vertical-align: middle;\n",
       "    }\n",
       "\n",
       "    .dataframe tbody tr th {\n",
       "        vertical-align: top;\n",
       "    }\n",
       "\n",
       "    .dataframe thead th {\n",
       "        text-align: right;\n",
       "    }\n",
       "</style>\n",
       "<table border=\"1\" class=\"dataframe\">\n",
       "  <thead>\n",
       "    <tr style=\"text-align: right;\">\n",
       "      <th></th>\n",
       "      <th>시간</th>\n",
       "      <th>성적</th>\n",
       "    </tr>\n",
       "  </thead>\n",
       "  <tbody>\n",
       "    <tr>\n",
       "      <th>해도</th>\n",
       "      <td>2</td>\n",
       "      <td>20</td>\n",
       "    </tr>\n",
       "    <tr>\n",
       "      <th>병관</th>\n",
       "      <td>4</td>\n",
       "      <td>40</td>\n",
       "    </tr>\n",
       "    <tr>\n",
       "      <th>기성</th>\n",
       "      <td>8</td>\n",
       "      <td>80</td>\n",
       "    </tr>\n",
       "    <tr>\n",
       "      <th>동원</th>\n",
       "      <td>9</td>\n",
       "      <td>90</td>\n",
       "    </tr>\n",
       "  </tbody>\n",
       "</table>\n",
       "</div>"
      ],
      "text/plain": [
       "    시간  성적\n",
       "해도   2  20\n",
       "병관   4  40\n",
       "기성   8  80\n",
       "동원   9  90"
      ]
     },
     "execution_count": 30,
     "metadata": {},
     "output_type": "execute_result"
    }
   ],
   "source": [
    "data = pd.DataFrame([[2,20],[4,40],[8,80],[9,90]],\n",
    "                   index=['해도','병관','기성','동원'],\n",
    "                   columns=['시간','성적'])\n",
    "data"
   ]
  },
  {
   "cell_type": "markdown",
   "metadata": {},
   "source": [
    "# 수학 공식을 이용한 해석적 모델 \n",
    "- LinearRegression"
   ]
  },
  {
   "cell_type": "code",
   "execution_count": 26,
   "metadata": {},
   "outputs": [],
   "source": [
    "from sklearn.linear_model import LinearRegression"
   ]
  },
  {
   "cell_type": "code",
   "execution_count": 27,
   "metadata": {},
   "outputs": [
    {
     "data": {
      "text/plain": [
       "LinearRegression()"
      ]
     },
     "execution_count": 27,
     "metadata": {},
     "output_type": "execute_result"
    }
   ],
   "source": [
    "linear_model = LinearRegression()\n",
    " # 문제데이터는 인식하기 쉽도록 2차원 정답은 1차원\n",
    "linear_model.fit(data[['시간']],data['성적'])"
   ]
  },
  {
   "cell_type": "code",
   "execution_count": 28,
   "metadata": {},
   "outputs": [
    {
     "name": "stdout",
     "output_type": "stream",
     "text": [
      "가중치 :  [0.]\n",
      "절편  57.5\n"
     ]
    }
   ],
   "source": [
    "print('가중치 : ',linear_model.coef_)\n",
    "print('절편 ',linear_model.intercept_)"
   ]
  },
  {
   "cell_type": "code",
   "execution_count": 29,
   "metadata": {},
   "outputs": [
    {
     "data": {
      "text/plain": [
       "array([57.5])"
      ]
     },
     "execution_count": 29,
     "metadata": {},
     "output_type": "execute_result"
    }
   ],
   "source": [
    "linear_model.predict([[7]])"
   ]
  },
  {
   "cell_type": "markdown",
   "metadata": {},
   "source": [
    "# 경사하강법 \n",
    "- 가중치의 변화에 따른 비용함수 값의 변화 그래프"
   ]
  },
  {
   "cell_type": "markdown",
   "metadata": {},
   "source": [
    "## H(x)\n",
    "- 예측함수\n",
    "- h(x) = w * x + 0"
   ]
  },
  {
   "cell_type": "code",
   "execution_count": 31,
   "metadata": {},
   "outputs": [],
   "source": [
    "def h(w, x):\n",
    "    return w * x"
   ]
  },
  {
   "cell_type": "markdown",
   "metadata": {},
   "source": [
    "## 비용 함수(Cost Function)\n",
    "- 평균제곱오차"
   ]
  },
  {
   "cell_type": "code",
   "execution_count": 33,
   "metadata": {},
   "outputs": [],
   "source": [
    "# data : 예측에 활용하는 데이터(문제)\n",
    "# target : 실제 데이터(정답)\n",
    "# weight : 가중치\n",
    "def cost(data, target, weight) :\n",
    "    y_pre = h(weight, data) # 예측값 생성\n",
    "    return ((y_pre - target) ** 2).mean() # y_pre - target : 오차"
   ]
  },
  {
   "cell_type": "code",
   "execution_count": 38,
   "metadata": {},
   "outputs": [
    {
     "data": {
      "text/plain": [
       "41.25"
      ]
     },
     "execution_count": 38,
     "metadata": {},
     "output_type": "execute_result"
    }
   ],
   "source": [
    "cost(data['시간'],data['성적'], 11)"
   ]
  },
  {
   "cell_type": "code",
   "execution_count": 45,
   "metadata": {},
   "outputs": [
    {
     "data": {
      "image/png": "[encoded data removed]",
      "text/plain": [
       "<Figure size 432x288 with 1 Axes>"
      ]
     },
     "metadata": {
      "needs_background": "light"
     },
     "output_type": "display_data"
    }
   ],
   "source": [
    "weight_arr = range(-10,31)\n",
    "\n",
    "cost_list = []\n",
    "for w in weight_arr:\n",
    "    c = cost(data['시간'], data['성적'], w)\n",
    "    cost_list.append(c)\n",
    "\n",
    "\n",
    "plt.plot(weight_arr, cost_list)\n",
    "plt.show()"
   ]
  },
  {
   "cell_type": "markdown",
   "metadata": {},
   "source": [
    "# 3.3 SGDRegressor\n",
    "- 경사하강법을 활용한 모델"
   ]
  },
  {
   "cell_type": "code",
   "execution_count": 46,
   "metadata": {},
   "outputs": [],
   "source": [
    "from sklearn.linear_model import SGDRegressor"
   ]
  },
  {
   "cell_type": "code",
   "execution_count": 48,
   "metadata": {
    "collapsed": true
   },
   "outputs": [
    {
     "name": "stdout",
     "output_type": "stream",
     "text": [
      "-- Epoch 1\n",
      "Norm: 9.15, NNZs: 1, Bias: 1.045736, T: 4, Avg. loss: 1039.050060\n",
      "Total training time: 0.00 seconds.\n",
      "-- Epoch 2\n",
      "Norm: 9.67, NNZs: 1, Bias: 1.118003, T: 8, Avg. loss: 5.682015\n",
      "Total training time: 0.00 seconds.\n",
      "-- Epoch 3\n",
      "Norm: 9.78, NNZs: 1, Bias: 1.127245, T: 12, Avg. loss: 0.577591\n",
      "Total training time: 0.00 seconds.\n",
      "-- Epoch 4\n",
      "Norm: 9.83, NNZs: 1, Bias: 1.129270, T: 16, Avg. loss: 0.184112\n",
      "Total training time: 0.00 seconds.\n",
      "-- Epoch 5\n",
      "Norm: 9.83, NNZs: 1, Bias: 1.125203, T: 20, Avg. loss: 0.138629\n",
      "Total training time: 0.00 seconds.\n",
      "-- Epoch 6\n",
      "Norm: 9.85, NNZs: 1, Bias: 1.122897, T: 24, Avg. loss: 0.135632\n",
      "Total training time: 0.00 seconds.\n",
      "-- Epoch 7\n",
      "Norm: 9.84, NNZs: 1, Bias: 1.118129, T: 28, Avg. loss: 0.130334\n",
      "Total training time: 0.00 seconds.\n",
      "-- Epoch 8\n",
      "Norm: 9.85, NNZs: 1, Bias: 1.115461, T: 32, Avg. loss: 0.131600\n",
      "Total training time: 0.00 seconds.\n",
      "-- Epoch 9\n",
      "Norm: 9.84, NNZs: 1, Bias: 1.110928, T: 36, Avg. loss: 0.128163\n",
      "Total training time: 0.00 seconds.\n",
      "-- Epoch 10\n",
      "Norm: 9.85, NNZs: 1, Bias: 1.108304, T: 40, Avg. loss: 0.129329\n",
      "Total training time: 0.00 seconds.\n",
      "-- Epoch 11\n",
      "Norm: 9.84, NNZs: 1, Bias: 1.104046, T: 44, Avg. loss: 0.126395\n",
      "Total training time: 0.00 seconds.\n",
      "-- Epoch 12\n",
      "Norm: 9.85, NNZs: 1, Bias: 1.101507, T: 48, Avg. loss: 0.127402\n",
      "Total training time: 0.00 seconds.\n",
      "-- Epoch 13\n",
      "Norm: 9.85, NNZs: 1, Bias: 1.097482, T: 52, Avg. loss: 0.124766\n",
      "Total training time: 0.00 seconds.\n",
      "-- Epoch 14\n",
      "Norm: 9.85, NNZs: 1, Bias: 1.095025, T: 56, Avg. loss: 0.125648\n",
      "Total training time: 0.00 seconds.\n",
      "-- Epoch 15\n",
      "Norm: 9.85, NNZs: 1, Bias: 1.091194, T: 60, Avg. loss: 0.123232\n",
      "Total training time: 0.00 seconds.\n",
      "-- Epoch 16\n",
      "Norm: 9.85, NNZs: 1, Bias: 1.088809, T: 64, Avg. loss: 0.124016\n",
      "Total training time: 0.00 seconds.\n",
      "-- Epoch 17\n",
      "Norm: 9.85, NNZs: 1, Bias: 1.085141, T: 68, Avg. loss: 0.121775\n",
      "Total training time: 0.00 seconds.\n",
      "-- Epoch 18\n",
      "Norm: 9.85, NNZs: 1, Bias: 1.082820, T: 72, Avg. loss: 0.122480\n",
      "Total training time: 0.00 seconds.\n",
      "-- Epoch 19\n",
      "Norm: 9.85, NNZs: 1, Bias: 1.079293, T: 76, Avg. loss: 0.120382\n",
      "Total training time: 0.00 seconds.\n",
      "-- Epoch 20\n",
      "Norm: 9.85, NNZs: 1, Bias: 1.077030, T: 80, Avg. loss: 0.121022\n",
      "Total training time: 0.00 seconds.\n",
      "-- Epoch 21\n",
      "Norm: 9.85, NNZs: 1, Bias: 1.073625, T: 84, Avg. loss: 0.119047\n",
      "Total training time: 0.00 seconds.\n",
      "-- Epoch 22\n",
      "Norm: 9.85, NNZs: 1, Bias: 1.071414, T: 88, Avg. loss: 0.119632\n",
      "Total training time: 0.00 seconds.\n",
      "-- Epoch 23\n",
      "Norm: 9.85, NNZs: 1, Bias: 1.068118, T: 92, Avg. loss: 0.117761\n",
      "Total training time: 0.00 seconds.\n",
      "-- Epoch 24\n",
      "Norm: 9.85, NNZs: 1, Bias: 1.065954, T: 96, Avg. loss: 0.118299\n",
      "Total training time: 0.00 seconds.\n",
      "-- Epoch 25\n",
      "Norm: 9.85, NNZs: 1, Bias: 1.062755, T: 100, Avg. loss: 0.116520\n",
      "Total training time: 0.00 seconds.\n",
      "-- Epoch 26\n",
      "Norm: 9.86, NNZs: 1, Bias: 1.060635, T: 104, Avg. loss: 0.117018\n",
      "Total training time: 0.00 seconds.\n",
      "-- Epoch 27\n",
      "Norm: 9.85, NNZs: 1, Bias: 1.057524, T: 108, Avg. loss: 0.115320\n",
      "Total training time: 0.00 seconds.\n",
      "-- Epoch 28\n",
      "Norm: 9.86, NNZs: 1, Bias: 1.055444, T: 112, Avg. loss: 0.115782\n",
      "Total training time: 0.00 seconds.\n",
      "-- Epoch 29\n",
      "Norm: 9.85, NNZs: 1, Bias: 1.052413, T: 116, Avg. loss: 0.114156\n",
      "Total training time: 0.00 seconds.\n",
      "-- Epoch 30\n",
      "Norm: 9.86, NNZs: 1, Bias: 1.050371, T: 120, Avg. loss: 0.114587\n",
      "Total training time: 0.00 seconds.\n",
      "-- Epoch 31\n",
      "Norm: 9.85, NNZs: 1, Bias: 1.047414, T: 124, Avg. loss: 0.113026\n",
      "Total training time: 0.00 seconds.\n",
      "-- Epoch 32\n",
      "Norm: 9.86, NNZs: 1, Bias: 1.045406, T: 128, Avg. loss: 0.113430\n",
      "Total training time: 0.00 seconds.\n",
      "-- Epoch 33\n",
      "Norm: 9.85, NNZs: 1, Bias: 1.042517, T: 132, Avg. loss: 0.111928\n",
      "Total training time: 0.00 seconds.\n",
      "-- Epoch 34\n",
      "Norm: 9.86, NNZs: 1, Bias: 1.040542, T: 136, Avg. loss: 0.112306\n",
      "Total training time: 0.00 seconds.\n",
      "-- Epoch 35\n",
      "Norm: 9.85, NNZs: 1, Bias: 1.037716, T: 140, Avg. loss: 0.110858\n",
      "Total training time: 0.00 seconds.\n",
      "-- Epoch 36\n",
      "Norm: 9.86, NNZs: 1, Bias: 1.035772, T: 144, Avg. loss: 0.111214\n",
      "Total training time: 0.00 seconds.\n",
      "-- Epoch 37\n",
      "Norm: 9.86, NNZs: 1, Bias: 1.033004, T: 148, Avg. loss: 0.109815\n",
      "Total training time: 0.00 seconds.\n",
      "-- Epoch 38\n",
      "Norm: 9.86, NNZs: 1, Bias: 1.031090, T: 152, Avg. loss: 0.110151\n",
      "Total training time: 0.00 seconds.\n",
      "-- Epoch 39\n",
      "Norm: 9.86, NNZs: 1, Bias: 1.028377, T: 156, Avg. loss: 0.108797\n",
      "Total training time: 0.00 seconds.\n",
      "-- Epoch 40\n",
      "Norm: 9.86, NNZs: 1, Bias: 1.026491, T: 160, Avg. loss: 0.109115\n",
      "Total training time: 0.00 seconds.\n",
      "-- Epoch 41\n",
      "Norm: 9.86, NNZs: 1, Bias: 1.023829, T: 164, Avg. loss: 0.107803\n",
      "Total training time: 0.00 seconds.\n",
      "-- Epoch 42\n",
      "Norm: 9.86, NNZs: 1, Bias: 1.021969, T: 168, Avg. loss: 0.108103\n",
      "Total training time: 0.00 seconds.\n",
      "-- Epoch 43\n",
      "Norm: 9.86, NNZs: 1, Bias: 1.019356, T: 172, Avg. loss: 0.106831\n",
      "Total training time: 0.00 seconds.\n",
      "-- Epoch 44\n",
      "Norm: 9.86, NNZs: 1, Bias: 1.017521, T: 176, Avg. loss: 0.107116\n",
      "Total training time: 0.00 seconds.\n",
      "Convergence after 44 epochs took 0.00 seconds\n"
     ]
    },
    {
     "data": {
      "text/plain": [
       "SGDRegressor(max_iter=500, verbose=1)"
      ]
     },
     "execution_count": 48,
     "metadata": {},
     "output_type": "execute_result"
    }
   ],
   "source": [
    "sgd_model = SGDRegressor(max_iter = 500, # 가중치 업데이트 횟수\n",
    "                        eta0 = 0.01, # 학습률 (learning rate) -- 정답률 높이도록 조정필요(0~1 까지인데 0.1을 기준)\n",
    "                        verbose = 1) # 학습 과정 확인 디폴트디폴트0으로 두면 아무 것도 안나옴\n",
    "sgd_model.fit(data[['시간']],data['성적'])"
   ]
  },
  {
   "cell_type": "code",
   "execution_count": 49,
   "metadata": {},
   "outputs": [
    {
     "data": {
      "text/plain": [
       "array([70.04118826])"
      ]
     },
     "execution_count": 49,
     "metadata": {},
     "output_type": "execute_result"
    }
   ],
   "source": [
    "sgd_model.predict([[7]])"
   ]
  },
  {
   "cell_type": "code",
   "execution_count": 51,
   "metadata": {},
   "outputs": [
    {
     "name": "stdout",
     "output_type": "stream",
     "text": [
      "[9.86052386]\n",
      "[1.01752125]\n"
     ]
    }
   ],
   "source": [
    "print(sgd_model.coef_)\n",
    "print(sgd_model.intercept_)"
   ]
  },
  {
   "cell_type": "code",
   "execution_count": null,
   "metadata": {},
   "outputs": [],
   "source": []
  },
  {
   "cell_type": "markdown",
   "metadata": {},
   "source": [
    " - Lasso : 특정값(가중치)들에게 일정한 값을 빼서 규제를 가함 // 가중치가 0이되는 특성들이 생긴다.->0이 되는 것들 사용x\n",
    " - 규제를 작게 가하면 LinearRegressor 모델과 같아짐\n",
    "     - 특성(x)      1, 2, 3, 4, 5\n",
    "     - 가중치(w)    3, 4, 6, 1, 2\n",
    "     - 규제,일반숫자(-3)     0, 1, 3, 0, 0\n",
    "         - 이렇게 되면 0이 되는 값이 나오게 되어 사용하지 못하는 특성이 생긴다"
   ]
  },
  {
   "cell_type": "markdown",
   "metadata": {},
   "source": [
    "- Ridge : 특정값(가중치)들에 일정한 퍼센트를 곱해서 규제를 가함 // 가중치가 0에 가까워지고, 0이 되진 않음, 가중치들이 일정 비율로 줄어듬->모든특성 사용\n",
    "- 규제를 작게 가하면 LinearRegressor 모델과 같아짐\n",
    "\n",
    "     - 특성(x)      1, 2, 3, 4, 5\n",
    "     - 가중치(w)    3, 4, 6, 1, 2\n",
    "     - 10%제약     0.3, 0.4, 0.6, 0.1, 0.2\n",
    "         - 이렇게 되면 0이 아닌 값이 나오게 되어 모든 특성을 사용한다"
   ]
  },
  {
   "cell_type": "code",
   "execution_count": null,
   "metadata": {},
   "outputs": [],
   "source": []
  },
  {
   "cell_type": "code",
   "execution_count": null,
   "metadata": {},
   "outputs": [],
   "source": []
  }
 ],
 "metadata": {
  "kernelspec": {
   "display_name": "Python 3",
   "language": "python",
   "name": "python3"
  },
  "language_info": {
   "codemirror_mode": {
    "name": "ipython",
    "version": 3
   },
   "file_extension": ".py",
   "mimetype": "text/x-python",
   "name": "python",
   "nbconvert_exporter": "python",
   "pygments_lexer": "ipython3",
   "version": "3.6.13"
  },
  "toc": {
   "base_numbering": 1,
   "nav_menu": {},
   "number_sections": true,
   "sideBar": true,
   "skip_h1_title": false,
   "title_cell": "Table of Contents",
   "title_sidebar": "Contents",
   "toc_cell": false,
   "toc_position": {
    "height": "calc(100% - 180px)",
    "left": "10px",
    "top": "150px",
    "width": "265.724px"
   },
   "toc_section_display": true,
   "toc_window_display": false
  }
 },
 "nbformat": 4,
 "nbformat_minor": 4
}
